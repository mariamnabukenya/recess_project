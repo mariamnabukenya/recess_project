{
 "cells": [
  {
   "cell_type": "code",
   "execution_count": 66,
   "metadata": {},
   "outputs": [],
   "source": [
    "import numpy as np\n",
    "import pandas as pd\n",
    "import matplotlib.pyplot as plt\n",
    "import seaborn as sns"
   ]
  },
  {
   "cell_type": "code",
   "execution_count": 67,
   "metadata": {},
   "outputs": [
    {
     "name": "stdout",
     "output_type": "stream",
     "text": [
      "0    False\n",
      "1    False\n",
      "2    False\n",
      "3    False\n",
      "4     True\n",
      "dtype: bool\n"
     ]
    }
   ],
   "source": [
    "# comparing elements of two series \n",
    "serie_1 = pd.Series([4,65,436,3,9])\n",
    "serie_2 = pd.Series([7,0,3,897,9])\n",
    "result = serie_1== serie_2\n",
    "print(result)"
   ]
  },
  {
   "cell_type": "code",
   "execution_count": 68,
   "metadata": {},
   "outputs": [
    {
     "name": "stdout",
     "output_type": "stream",
     "text": [
      "0     3\n",
      "1     7\n",
      "2    11\n",
      "3    15\n",
      "4    23\n",
      "dtype: int64\n"
     ]
    }
   ],
   "source": [
    "# add two series\n",
    "serie_A =pd.Series([2,4,6,8,14])\n",
    "serie_B =pd.Series([1,3,5,7,9])\n",
    "add = serie_A + serie_B\n",
    "print(add)"
   ]
  },
  {
   "cell_type": "code",
   "execution_count": 69,
   "metadata": {},
   "outputs": [
    {
     "name": "stdout",
     "output_type": "stream",
     "text": [
      "0    1\n",
      "1    1\n",
      "2    1\n",
      "3    1\n",
      "4    5\n",
      "dtype: int64\n"
     ]
    }
   ],
   "source": [
    "#subtracting the series\n",
    "subtraction = serie_A - serie_B\n",
    "print(subtraction)"
   ]
  },
  {
   "cell_type": "code",
   "execution_count": 70,
   "metadata": {},
   "outputs": [
    {
     "name": "stdout",
     "output_type": "stream",
     "text": [
      "0      2\n",
      "1     12\n",
      "2     30\n",
      "3     56\n",
      "4    126\n",
      "dtype: int64\n"
     ]
    }
   ],
   "source": [
    "# multiplying the series\n",
    "product = serie_A * serie_B\n",
    "print(product)"
   ]
  },
  {
   "cell_type": "code",
   "execution_count": 71,
   "metadata": {},
   "outputs": [
    {
     "name": "stdout",
     "output_type": "stream",
     "text": [
      "0    2.000000\n",
      "1    1.333333\n",
      "2    1.200000\n",
      "3    1.142857\n",
      "4    1.555556\n",
      "dtype: float64\n"
     ]
    }
   ],
   "source": [
    "#dividing the series\n",
    "divide = serie_A / serie_B\n",
    "print(divide)"
   ]
  },
  {
   "cell_type": "code",
   "execution_count": 72,
   "metadata": {},
   "outputs": [
    {
     "name": "stdout",
     "output_type": "stream",
     "text": [
      "Josh       24\n",
      "Sam        36\n",
      "Peace      19\n",
      "Charles    65\n",
      "Tom        44\n",
      "dtype: int64\n"
     ]
    }
   ],
   "source": [
    "#convert a dictionary to series \n",
    "dictionary1 = {'Josh':24,'Sam':36,'Peace':19,'Charles':65,'Tom':44}\n",
    "serie = pd.Series(dictionary1)\n",
    "print(serie)"
   ]
  },
  {
   "cell_type": "code",
   "execution_count": 73,
   "metadata": {},
   "outputs": [
    {
     "name": "stdout",
     "output_type": "stream",
     "text": [
      "<PandasArray>\n",
      "['Love', '800', 'Joy', '789.9', 'Peace', 'True']\n",
      "Length: 6, dtype: str1024\n"
     ]
    }
   ],
   "source": [
    "#converting series into array\n",
    "Sample_serie =['Love',800,'Joy',789.9,'Peace',True]\n",
    "sample_array = pd.array(Sample_serie)\n",
    "print(sample_array)"
   ]
  },
  {
   "cell_type": "code",
   "execution_count": 96,
   "metadata": {},
   "outputs": [],
   "source": [
    "#reading csv file\n",
    "cup = pd.read_csv('AfricaCupofNationsMatches.csv')"
   ]
  },
  {
   "cell_type": "code",
   "execution_count": 76,
   "metadata": {},
   "outputs": [
    {
     "name": "stdout",
     "output_type": "stream",
     "text": [
      "   Year      Date   Time    HomeTeam       AwayTeam  HomeTeamGoals  \\\n",
      "0  1957  10-Feb-57    NaN     Sudan           Egypt            1.0   \n",
      "1  1957  10-Feb-57    NaN  Ethiopia    South Africa            NaN   \n",
      "2  1957  16-Feb-57    NaN     Egypt        Ethiopia            4.0   \n",
      "3  1959  22-May-59    NaN      Egypt       Ethiopia            4.0   \n",
      "4  1959  25-May-59    NaN     Sudan        Ethiopia            1.0   \n",
      "5  1959  29-May-59    NaN      Egypt          Sudan            2.0   \n",
      "6  1962  14-Jan-62    NaN  Ethiopia         Tunisia            4.0   \n",
      "\n",
      "   AwayTeamGoals             Stage  \\\n",
      "0            2.0        Semifinals   \n",
      "1            NaN        Semifinals   \n",
      "2            0.0             Final   \n",
      "3            0.0  Final Tournament   \n",
      "4            0.0  Final Tournament   \n",
      "5            1.0  Final Tournament   \n",
      "6            2.0        Semifinals   \n",
      "\n",
      "                                SpecialWinConditions                 Stadium  \\\n",
      "0                                                NaN       Municipal Stadium   \n",
      "1  Ethiopia  wins due to disqualification of othe...                     NaN   \n",
      "2                                                NaN       Municipal Stadium   \n",
      "3                                                NaN   Prince Farouk Stadium   \n",
      "4                                                NaN   Prince Farouk Stadium   \n",
      "5                                                NaN   Prince Farouk Stadium   \n",
      "6                                                NaN  Hailé Sélassié Stadium   \n",
      "\n",
      "           City  Attendance  \n",
      "0      Khartoum     30000.0  \n",
      "1           NaN         NaN  \n",
      "2      Khartoum     30000.0  \n",
      "3         Cairo     30000.0  \n",
      "4         Cairo     20000.0  \n",
      "5         Cairo     30000.0  \n",
      "6   Addis Ababa     30000.0  \n"
     ]
    }
   ],
   "source": [
    "# reading first seven rows\n",
    "cup = pd.read_csv('AfricaCupofNationsMatches.csv',nrows=7)\n",
    "print(cup)"
   ]
  },
  {
   "cell_type": "code",
   "execution_count": 77,
   "metadata": {},
   "outputs": [
    {
     "name": "stdout",
     "output_type": "stream",
     "text": [
      "    HomeTeam       AwayTeam  HomeTeamGoals  AwayTeamGoals\n",
      "0     Sudan           Egypt            1.0            2.0\n",
      "1  Ethiopia    South Africa            NaN            NaN\n",
      "2     Egypt        Ethiopia            4.0            0.0\n",
      "3      Egypt       Ethiopia            4.0            0.0\n",
      "4     Sudan        Ethiopia            1.0            0.0\n",
      "5      Egypt          Sudan            2.0            1.0\n",
      "6  Ethiopia         Tunisia            4.0            2.0\n"
     ]
    }
   ],
   "source": [
    "#selecting specific rows from the dataset\n",
    "row = cup[['HomeTeam','AwayTeam','HomeTeamGoals','AwayTeamGoals']]\n",
    "print(row)"
   ]
  },
  {
   "cell_type": "code",
   "execution_count": 78,
   "metadata": {},
   "outputs": [
    {
     "name": "stdout",
     "output_type": "stream",
     "text": [
      "   Year      Date   Time  HomeTeam   AwayTeam  HomeTeamGoals  AwayTeamGoals  \\\n",
      "3  1959  22-May-59    NaN    Egypt   Ethiopia            4.0            0.0   \n",
      "5  1959  29-May-59    NaN    Egypt      Sudan            2.0            1.0   \n",
      "\n",
      "              Stage SpecialWinConditions                Stadium    City  \\\n",
      "3  Final Tournament                  NaN  Prince Farouk Stadium   Cairo   \n",
      "5  Final Tournament                  NaN  Prince Farouk Stadium   Cairo   \n",
      "\n",
      "   Attendance  \n",
      "3     30000.0  \n",
      "5     30000.0  \n"
     ]
    }
   ],
   "source": [
    "#select rows where Egypt\n",
    "egy = cup[cup.eq('Egypt').any(axis=1)]\n",
    "print(egy)"
   ]
  },
  {
   "cell_type": "code",
   "execution_count": 79,
   "metadata": {},
   "outputs": [
    {
     "name": "stdout",
     "output_type": "stream",
     "text": [
      "(7, 12)\n"
     ]
    }
   ],
   "source": [
    "#counting number of rows and colums\n",
    "rows_and_columns = cup.shape\n",
    "print(rows_and_columns)"
   ]
  },
  {
   "cell_type": "code",
   "execution_count": 80,
   "metadata": {},
   "outputs": [
    {
     "name": "stdout",
     "output_type": "stream",
     "text": [
      "   Attendance\n",
      "0       False\n",
      "1        True\n",
      "2       False\n",
      "3       False\n",
      "4       False\n",
      "5       False\n",
      "6       False\n"
     ]
    }
   ],
   "source": [
    "#selecting rows where attendence is missing\n",
    "attend = cup[['Attendance']]\n",
    "attendance = attend.isnull()\n",
    "print(attendance)\n"
   ]
  },
  {
   "cell_type": "code",
   "execution_count": 81,
   "metadata": {},
   "outputs": [
    {
     "name": "stdout",
     "output_type": "stream",
     "text": [
      "   Year      Date   Time    HomeTeam   AwayTeam  HomeTeamGoals  AwayTeamGoals  \\\n",
      "2  1957  16-Feb-57    NaN     Egypt    Ethiopia            4.0            0.0   \n",
      "3  1959  22-May-59    NaN      Egypt   Ethiopia            4.0            0.0   \n",
      "6  1962  14-Jan-62    NaN  Ethiopia     Tunisia            4.0            2.0   \n",
      "\n",
      "              Stage SpecialWinConditions                 Stadium  \\\n",
      "2             Final                  NaN       Municipal Stadium   \n",
      "3  Final Tournament                  NaN   Prince Farouk Stadium   \n",
      "6        Semifinals                  NaN  Hailé Sélassié Stadium   \n",
      "\n",
      "           City  Attendance  \n",
      "2      Khartoum     30000.0  \n",
      "3         Cairo     30000.0  \n",
      "6   Addis Ababa     30000.0  \n"
     ]
    }
   ],
   "source": [
    "#select rows where hometeamgoals are between 3 and 6\n",
    "home = cup[(cup['HomeTeamGoals']>=3)&(cup['HomeTeamGoals']<=6)]\n",
    "print(home)"
   ]
  },
  {
   "cell_type": "code",
   "execution_count": 82,
   "metadata": {},
   "outputs": [
    {
     "name": "stdout",
     "output_type": "stream",
     "text": [
      "   Year      Date   Time    HomeTeam       AwayTeam  HomeTeamGoals  \\\n",
      "0  1957  10-Feb-57    NaN     Sudan           Egypt            1.0   \n",
      "1  1957  10-Feb-57    NaN  Ethiopia    South Africa            NaN   \n",
      "2  1957  16-Feb-57    NaN     Egypt        Ethiopia            4.0   \n",
      "3  1959  22-May-59    NaN      Egypt       Ethiopia            4.0   \n",
      "4  1959  25-May-59    NaN     Sudan        Ethiopia            1.0   \n",
      "5  1959  29-May-59    NaN      Egypt          Sudan            2.0   \n",
      "6  1962  14-Jan-62    NaN  Ethiopia         Tunisia            4.0   \n",
      "\n",
      "   AwayTeamGoals             Stage  \\\n",
      "0            2.0        Semifinals   \n",
      "1            NaN        Semifinals   \n",
      "2           10.0             Final   \n",
      "3            0.0  Final Tournament   \n",
      "4            0.0  Final Tournament   \n",
      "5            1.0  Final Tournament   \n",
      "6            2.0        Semifinals   \n",
      "\n",
      "                                SpecialWinConditions                 Stadium  \\\n",
      "0                                                NaN       Municipal Stadium   \n",
      "1  Ethiopia  wins due to disqualification of othe...                     NaN   \n",
      "2                                                NaN       Municipal Stadium   \n",
      "3                                                NaN   Prince Farouk Stadium   \n",
      "4                                                NaN   Prince Farouk Stadium   \n",
      "5                                                NaN   Prince Farouk Stadium   \n",
      "6                                                NaN  Hailé Sélassié Stadium   \n",
      "\n",
      "           City  Attendance  \n",
      "0      Khartoum     30000.0  \n",
      "1           NaN         NaN  \n",
      "2      Khartoum     30000.0  \n",
      "3         Cairo     30000.0  \n",
      "4         Cairo     20000.0  \n",
      "5         Cairo     30000.0  \n",
      "6   Addis Ababa     30000.0  \n"
     ]
    }
   ],
   "source": [
    "#change awayteamgoals in third row to 10\n",
    "away = cup.loc[2,'AwayTeamGoals']=10\n",
    "print(cup)"
   ]
  },
  {
   "cell_type": "code",
   "execution_count": 83,
   "metadata": {},
   "outputs": [
    {
     "name": "stdout",
     "output_type": "stream",
     "text": [
      "   Year      Date   Time    HomeTeam       AwayTeam  HomeTeamGoals  \\\n",
      "3  1959  22-May-59    NaN      Egypt       Ethiopia            4.0   \n",
      "5  1959  29-May-59    NaN      Egypt          Sudan            2.0   \n",
      "2  1957  16-Feb-57    NaN     Egypt        Ethiopia            4.0   \n",
      "1  1957  10-Feb-57    NaN  Ethiopia    South Africa            NaN   \n",
      "6  1962  14-Jan-62    NaN  Ethiopia         Tunisia            4.0   \n",
      "0  1957  10-Feb-57    NaN     Sudan           Egypt            1.0   \n",
      "4  1959  25-May-59    NaN     Sudan        Ethiopia            1.0   \n",
      "\n",
      "   AwayTeamGoals             Stage  \\\n",
      "3            0.0  Final Tournament   \n",
      "5            1.0  Final Tournament   \n",
      "2           10.0             Final   \n",
      "1            NaN        Semifinals   \n",
      "6            2.0        Semifinals   \n",
      "0            2.0        Semifinals   \n",
      "4            0.0  Final Tournament   \n",
      "\n",
      "                                SpecialWinConditions                 Stadium  \\\n",
      "3                                                NaN   Prince Farouk Stadium   \n",
      "5                                                NaN   Prince Farouk Stadium   \n",
      "2                                                NaN       Municipal Stadium   \n",
      "1  Ethiopia  wins due to disqualification of othe...                     NaN   \n",
      "6                                                NaN  Hailé Sélassié Stadium   \n",
      "0                                                NaN       Municipal Stadium   \n",
      "4                                                NaN   Prince Farouk Stadium   \n",
      "\n",
      "           City  Attendance  \n",
      "3         Cairo     30000.0  \n",
      "5         Cairo     30000.0  \n",
      "2      Khartoum     30000.0  \n",
      "1           NaN         NaN  \n",
      "6   Addis Ababa     30000.0  \n",
      "0      Khartoum     30000.0  \n",
      "4         Cairo     20000.0  \n"
     ]
    }
   ],
   "source": [
    "#sort dataframe in ascending order by hometeam\n",
    "sort = cup.sort_values(by='HomeTeam')\n",
    "print(sort)"
   ]
  },
  {
   "cell_type": "code",
   "execution_count": 84,
   "metadata": {},
   "outputs": [
    {
     "name": "stdout",
     "output_type": "stream",
     "text": [
      "   Year      Date   Time    HomeTeam       AwayTeam  HomeTeamGoals  \\\n",
      "0  1957  10-Feb-57    NaN     Sudan           Egypt            1.0   \n",
      "1  1957  10-Feb-57    NaN  Ethiopia    South Africa            NaN   \n",
      "2  1957  16-Feb-57    NaN     Egypt        Ethiopia            4.0   \n",
      "3  1959  22-May-59    NaN      Egypt       Ethiopia            4.0   \n",
      "4  1959  25-May-59    NaN     Sudan        Ethiopia            1.0   \n",
      "5  1959  29-May-59    NaN      Egypt          Sudan            2.0   \n",
      "6  1962  14-Jan-62    NaN  Ethiopia         Tunisia            4.0   \n",
      "\n",
      "   AwayTeamGoals             Stage  \\\n",
      "0            2.0        Semifinals   \n",
      "1            NaN        Semifinals   \n",
      "2           10.0             Final   \n",
      "3            0.0  Final Tournament   \n",
      "4            0.0  Final Tournament   \n",
      "5            1.0  Final Tournament   \n",
      "6            2.0        Semifinals   \n",
      "\n",
      "                                SpecialWinConditions                 Stadium  \\\n",
      "0                                                NaN       Municipal Stadium   \n",
      "1  Ethiopia  wins due to disqualification of othe...                     NaN   \n",
      "2                                                NaN       Municipal Stadium   \n",
      "3                                                NaN   Prince Farouk Stadium   \n",
      "4                                                NaN   Prince Farouk Stadium   \n",
      "5                                                NaN   Prince Farouk Stadium   \n",
      "6                                                NaN  Hailé Sélassié Stadium   \n",
      "\n",
      "           City  Attendance  \n",
      "0      Khartoum     30000.0  \n",
      "1           NaN         NaN  \n",
      "2      Khartoum     30000.0  \n",
      "3         Cairo     30000.0  \n",
      "4         Cairo     20000.0  \n",
      "5         Cairo     30000.0  \n",
      "6   Addis Ababa     30000.0  \n"
     ]
    }
   ],
   "source": [
    "#sorting in descending order by hometeamscore\n",
    "score = cup.sort_values(by='HomeTeamGoals',ascending=False)\n",
    "print(cup)"
   ]
  },
  {
   "cell_type": "code",
   "execution_count": 85,
   "metadata": {},
   "outputs": [
    {
     "name": "stdout",
     "output_type": "stream",
     "text": [
      "Index(['Year', 'Date ', 'Time ', 'HomeTeam', 'AwayTeam', 'HomeTeamGoals',\n",
      "       'AwayTeamGoals', 'Stage', 'SpecialWinConditions', 'Stadium', 'City',\n",
      "       'Attendance'],\n",
      "      dtype='object')\n"
     ]
    }
   ],
   "source": [
    "#getting column headers\n",
    "headers=cup.columns\n",
    "print(headers)"
   ]
  },
  {
   "cell_type": "code",
   "execution_count": 86,
   "metadata": {},
   "outputs": [
    {
     "name": "stdout",
     "output_type": "stream",
     "text": [
      "   Year      Date   Time    HomeTeam       AwayTeam  HomeTeamGoals  \\\n",
      "0  1957  10-Feb-57    NaN     Sudan           Egypt            1.0   \n",
      "1  1957  10-Feb-57    NaN  Ethiopia    South Africa            NaN   \n",
      "2  1957  16-Feb-57    NaN     Egypt        Ethiopia            4.0   \n",
      "3  1959  22-May-59    NaN      Egypt       Ethiopia            4.0   \n",
      "4  1959  25-May-59    NaN     Sudan        Ethiopia            1.0   \n",
      "5  1959  29-May-59    NaN      Egypt          Sudan            2.0   \n",
      "6  1962  14-Jan-62    NaN  Ethiopia         Tunisia            4.0   \n",
      "\n",
      "   AwayTeamGoals             Stage  \\\n",
      "0            2.0        Semifinals   \n",
      "1            NaN        Semifinals   \n",
      "2           10.0             Final   \n",
      "3            0.0  Final Tournament   \n",
      "4            0.0  Final Tournament   \n",
      "5            1.0  Final Tournament   \n",
      "6            2.0        Semifinals   \n",
      "\n",
      "                                SpecialWinConditions                 Stadium  \\\n",
      "0                                                NaN       Municipal Stadium   \n",
      "1  Ethiopia  wins due to disqualification of othe...                     NaN   \n",
      "2                                                NaN       Municipal Stadium   \n",
      "3                                                NaN   Prince Farouk Stadium   \n",
      "4                                                NaN   Prince Farouk Stadium   \n",
      "5                                                NaN   Prince Farouk Stadium   \n",
      "6                                                NaN  Hailé Sélassié Stadium   \n",
      "\n",
      "           City  Attendance TopScorer  \n",
      "0      Khartoum     30000.0      None  \n",
      "1           NaN         NaN      None  \n",
      "2      Khartoum     30000.0      None  \n",
      "3         Cairo     30000.0      None  \n",
      "4         Cairo     20000.0      None  \n",
      "5         Cairo     30000.0      None  \n",
      "6   Addis Ababa     30000.0      None  \n"
     ]
    }
   ],
   "source": [
    "#appending a column to the dataframe\n",
    "cup['TopScorer']= None\n",
    "print(cup)"
   ]
  },
  {
   "cell_type": "code",
   "execution_count": 87,
   "metadata": {},
   "outputs": [
    {
     "name": "stdout",
     "output_type": "stream",
     "text": [
      "   Year      Date   Time    HomeTeam       AwayTeam  HomeTeamGoals  \\\n",
      "0  1957  10-Feb-57    NaN     Sudan           Egypt            1.0   \n",
      "1  1957  10-Feb-57    NaN  Ethiopia    South Africa            NaN   \n",
      "2  1957  16-Feb-57    NaN     Egypt        Ethiopia            4.0   \n",
      "3  1959  22-May-59    NaN      Egypt       Ethiopia            4.0   \n",
      "4  1959  25-May-59    NaN     Sudan        Ethiopia            1.0   \n",
      "5  1959  29-May-59    NaN      Egypt          Sudan            2.0   \n",
      "6  1962  14-Jan-62    NaN  Ethiopia         Tunisia            4.0   \n",
      "7  2000        NaN    NaN      Ghana         Rwamda            2.0   \n",
      "8  2009        NaN    NaN     Uganda          Kenya            2.0   \n",
      "\n",
      "   AwayTeamGoals             Stage  \\\n",
      "0            2.0        Semifinals   \n",
      "1            NaN        Semifinals   \n",
      "2           10.0             Final   \n",
      "3            0.0  Final Tournament   \n",
      "4            0.0  Final Tournament   \n",
      "5            1.0  Final Tournament   \n",
      "6            2.0        Semifinals   \n",
      "7            0.0      Quater_Final   \n",
      "8            4.0             Final   \n",
      "\n",
      "                                SpecialWinConditions                 Stadium  \\\n",
      "0                                                NaN       Municipal Stadium   \n",
      "1  Ethiopia  wins due to disqualification of othe...                     NaN   \n",
      "2                                                NaN       Municipal Stadium   \n",
      "3                                                NaN   Prince Farouk Stadium   \n",
      "4                                                NaN   Prince Farouk Stadium   \n",
      "5                                                NaN   Prince Farouk Stadium   \n",
      "6                                                NaN  Hailé Sélassié Stadium   \n",
      "7                                     Home Advantage         Kigali National   \n",
      "8                                   Good preparation        Mandela National   \n",
      "\n",
      "           City  Attendance TopScorer  Date  Time  \n",
      "0      Khartoum     30000.0      None   NaN   NaN  \n",
      "1           NaN         NaN      None   NaN   NaN  \n",
      "2      Khartoum     30000.0      None   NaN   NaN  \n",
      "3         Cairo     30000.0      None   NaN   NaN  \n",
      "4         Cairo     20000.0      None   NaN   NaN  \n",
      "5         Cairo     30000.0      None   NaN   NaN  \n",
      "6   Addis Ababa     30000.0      None   NaN   NaN  \n",
      "7        Kigali      1000.0     Uwera   NaN   NaN  \n",
      "8       Kampala      1500.0      Ouma  None  None  \n"
     ]
    },
    {
     "name": "stderr",
     "output_type": "stream",
     "text": [
      "C:\\Users\\ahaab\\AppData\\Local\\Temp\\ipykernel_4528\\2185353790.py:6: FutureWarning: The frame.append method is deprecated and will be removed from pandas in a future version. Use pandas.concat instead.\n",
      "  cup = cup.append(row1,ignore_index=True)\n",
      "C:\\Users\\ahaab\\AppData\\Local\\Temp\\ipykernel_4528\\2185353790.py:7: FutureWarning: The frame.append method is deprecated and will be removed from pandas in a future version. Use pandas.concat instead.\n",
      "  cup = cup.append(row2,ignore_index=True)\n"
     ]
    }
   ],
   "source": [
    "#adding two rows to dataframe\n",
    "row1={'Year':2000,'Date':None,'Time':None,'HomeTeam':\"Ghana\",'AwayTeam':\"Rwamda\",'HomeTeamGoals':2,'AwayTeamGoals':0,'Stage':\"Quater_Final\",'SpecialWinConditions':\"Home Advantage\",'Stadium':\"Kigali National\",\n",
    "      'City':\"Kigali\",'Attendance':1000,'TopScorer':\"Uwera\"}\n",
    "row2 ={'Year':2009,'Date':None,'Time':None,'HomeTeam':\"Uganda\",'AwayTeam':\"Kenya\",'HomeTeamGoals':2,'AwayTeamGoals':4,'Stage':\"Final\",'SpecialWinConditions':\"Good preparation\",'Stadium':\"Mandela National\",\n",
    "      'City':\"Kampala\",'Attendance':1500,'TopScorer':\"Ouma\"}\n",
    "cup = cup.append(row1,ignore_index=True)\n",
    "cup = cup.append(row2,ignore_index=True)\n",
    "print(cup)"
   ]
  },
  {
   "cell_type": "code",
   "execution_count": 88,
   "metadata": {},
   "outputs": [
    {
     "name": "stdout",
     "output_type": "stream",
     "text": [
      "   Year      Date   Time    HomeTeam       AwayTeam  HomeTeamGoals  \\\n",
      "0  1957  10-Feb-57    NaN     Sudan           Egypt            1.0   \n",
      "1  1957  10-Feb-57    NaN  Ethiopia    South Africa            NaN   \n",
      "2  1957  16-Feb-57    NaN     Egypt        Ethiopia            4.0   \n",
      "3  1959  22-May-59    NaN      Egypt       Ethiopia            4.0   \n",
      "4  1959  25-May-59    NaN     Sudan        Ethiopia            1.0   \n",
      "5  1959  29-May-59    NaN      Egypt          Sudan            2.0   \n",
      "6  1962  14-Jan-62    NaN  Ethiopia         Tunisia            4.0   \n",
      "7  2000        NaN    NaN      Ghana         Rwamda            2.0   \n",
      "8  2009        NaN    NaN     Uganda          Kenya            2.0   \n",
      "\n",
      "   AwayTeamGoals             Stage  \\\n",
      "0            2.0        Semifinals   \n",
      "1            NaN        Semifinals   \n",
      "2           10.0             Final   \n",
      "3            0.0  Final Tournament   \n",
      "4            0.0  Final Tournament   \n",
      "5            1.0  Final Tournament   \n",
      "6            2.0        Semifinals   \n",
      "7            0.0      Quater_Final   \n",
      "8            4.0             Final   \n",
      "\n",
      "                                SpecialWinConditions                 Stadium  \\\n",
      "0                                                NaN       Municipal Stadium   \n",
      "1  Ethiopia  wins due to disqualification of othe...                     NaN   \n",
      "2                                                NaN       Municipal Stadium   \n",
      "3                                                NaN   Prince Farouk Stadium   \n",
      "4                                                NaN   Prince Farouk Stadium   \n",
      "5                                                NaN   Prince Farouk Stadium   \n",
      "6                                                NaN  Hailé Sélassié Stadium   \n",
      "7                                     Home Advantage         Kigali National   \n",
      "8                                   Good preparation        Mandela National   \n",
      "\n",
      "           City  Attendance TopScorer  Date  Time  \n",
      "0      Khartoum     30000.0      None   NaN   NaN  \n",
      "1           NaN         NaN      None   NaN   NaN  \n",
      "2      Khartoum     30000.0      None   NaN   NaN  \n",
      "3         Cairo     30000.0      None   NaN   NaN  \n",
      "4         Cairo     20000.0      None   NaN   NaN  \n",
      "5         Cairo     30000.0      None   NaN   NaN  \n",
      "6   Addis Ababa     30000.0      None   NaN   NaN  \n",
      "7        Kigali      1000.0     Uwera   NaN   NaN  \n",
      "8       Kampala      1500.0      Ouma  None  None  \n"
     ]
    }
   ],
   "source": [
    "#changing country Uganda to China in the dataframe\n",
    "column='AwayTeam'\n",
    "current_value='Uganda'\n",
    "new_value='Chine'\n",
    "cup.loc[cup[column]==current_value,column]=new_value\n",
    "print(cup)"
   ]
  },
  {
   "cell_type": "code",
   "execution_count": 89,
   "metadata": {},
   "outputs": [
    {
     "name": "stdout",
     "output_type": "stream",
     "text": [
      "   Year      Date   Time    HomeTeam       AwayTeam  HomeTeamGoals  \\\n",
      "0  1957  10-Feb-57    NaN     Sudan           Egypt            1.0   \n",
      "1  1957  10-Feb-57    NaN  Ethiopia    South Africa            NaN   \n",
      "2  1957  16-Feb-57    NaN     Egypt        Ethiopia            4.0   \n",
      "3  1959  22-May-59    NaN      Egypt       Ethiopia            4.0   \n",
      "4  1959  25-May-59    NaN     Sudan        Ethiopia            1.0   \n",
      "5  1959  29-May-59    NaN      Egypt          Sudan            2.0   \n",
      "6  1962  14-Jan-62    NaN  Ethiopia         Tunisia            4.0   \n",
      "7  2000        NaN    NaN      Ghana         Rwamda            2.0   \n",
      "8  2009        NaN    NaN     Uganda          Kenya            2.0   \n",
      "\n",
      "   AwayTeamGoals             Stage  \\\n",
      "0            2.0        Semifinals   \n",
      "1            NaN        Semifinals   \n",
      "2           10.0             Final   \n",
      "3            0.0  Final Tournament   \n",
      "4            0.0  Final Tournament   \n",
      "5            1.0  Final Tournament   \n",
      "6            2.0        Semifinals   \n",
      "7            0.0      Quater_Final   \n",
      "8            4.0             Final   \n",
      "\n",
      "                                SpecialWinConditions                 Stadium  \\\n",
      "0                                                NaN       Municipal Stadium   \n",
      "1  Ethiopia  wins due to disqualification of othe...                     NaN   \n",
      "2                                                NaN       Municipal Stadium   \n",
      "3                                                NaN   Prince Farouk Stadium   \n",
      "4                                                NaN   Prince Farouk Stadium   \n",
      "5                                                NaN   Prince Farouk Stadium   \n",
      "6                                                NaN  Hailé Sélassié Stadium   \n",
      "7                                     Home Advantage         Kigali National   \n",
      "8                                   Good preparation        Mandela National   \n",
      "\n",
      "           City  Attendance TopScorer  Date  Time  \n",
      "0      Khartoum     30000.0      None   NaN   NaN  \n",
      "1           NaN         NaN      None   NaN   NaN  \n",
      "2      Khartoum     30000.0      None   NaN   NaN  \n",
      "3         Cairo     30000.0      None   NaN   NaN  \n",
      "4         Cairo     20000.0      None   NaN   NaN  \n",
      "5         Cairo     30000.0      None   NaN   NaN  \n",
      "6   Addis Ababa     30000.0      None   NaN   NaN  \n",
      "7        Kigali      1000.0     Uwera   NaN   NaN  \n",
      "8       Kampala      1500.0      Ouma  None  None  \n"
     ]
    }
   ],
   "source": [
    "#reset index in the dataframe\n",
    "cup.reset_index(drop=True,inplace=True)\n",
    "print(cup)"
   ]
  },
  {
   "cell_type": "code",
   "execution_count": 90,
   "metadata": {},
   "outputs": [
    {
     "name": "stdout",
     "output_type": "stream",
     "text": [
      "True\n"
     ]
    }
   ],
   "source": [
    "#checking whether stadium column is present in the dataframe\n",
    "column_name ='Stadium'\n",
    "if column_name in cup.columns:\n",
    "    print(True)\n",
    "else:\n",
    "    print(False)\n"
   ]
  },
  {
   "cell_type": "code",
   "execution_count": 91,
   "metadata": {},
   "outputs": [
    {
     "name": "stdout",
     "output_type": "stream",
     "text": [
      "   Year      Date   Time    HomeTeam       AwayTeam  HomeTeamGoals  \\\n",
      "0  1957  10-Feb-57    NaN     Sudan           Egypt            1.0   \n",
      "1  1957  10-Feb-57    NaN  Ethiopia    South Africa            NaN   \n",
      "2  1957  16-Feb-57    NaN     Egypt        Ethiopia            4.0   \n",
      "3  1959  22-May-59    NaN      Egypt       Ethiopia            4.0   \n",
      "4  1959  25-May-59    NaN     Sudan        Ethiopia            1.0   \n",
      "5  1959  29-May-59    NaN      Egypt          Sudan            2.0   \n",
      "6  1962  14-Jan-62    NaN  Ethiopia         Tunisia            4.0   \n",
      "7  2000        NaN    NaN      Ghana         Rwamda            2.0   \n",
      "8  2009        NaN    NaN     Uganda          Kenya            2.0   \n",
      "\n",
      "   AwayTeamGoals             Stage  \\\n",
      "0            2.0        Semifinals   \n",
      "1            NaN        Semifinals   \n",
      "2           10.0             Final   \n",
      "3            0.0  Final Tournament   \n",
      "4            0.0  Final Tournament   \n",
      "5            1.0  Final Tournament   \n",
      "6            2.0        Semifinals   \n",
      "7            0.0      Quater_Final   \n",
      "8            4.0             Final   \n",
      "\n",
      "                                SpecialWinConditions                 Stadium  \\\n",
      "0                                                NaN       Municipal Stadium   \n",
      "1  Ethiopia  wins due to disqualification of othe...                     NaN   \n",
      "2                                                NaN       Municipal Stadium   \n",
      "3                                                NaN   Prince Farouk Stadium   \n",
      "4                                                NaN   Prince Farouk Stadium   \n",
      "5                                                NaN   Prince Farouk Stadium   \n",
      "6                                                NaN  Hailé Sélassié Stadium   \n",
      "7                                     Home Advantage         Kigali National   \n",
      "8                                   Good preparation        Mandela National   \n",
      "\n",
      "           City  Attendance TopScorer  Date  Time  \n",
      "0      Khartoum     30000.0      None   NaN   NaN  \n",
      "1           NaN         NaN      None   NaN   NaN  \n",
      "2      Khartoum     30000.0      None   NaN   NaN  \n",
      "3         Cairo     30000.0      None   NaN   NaN  \n",
      "4         Cairo     20000.0      None   NaN   NaN  \n",
      "5         Cairo     30000.0      None   NaN   NaN  \n",
      "6   Addis Ababa     30000.0      None   NaN   NaN  \n",
      "7        Kigali      1000.0     Uwera   NaN   NaN  \n",
      "8       Kampala      1500.0      Ouma  None  None  \n"
     ]
    }
   ],
   "source": [
    "#converting datatype of awayteam to float\n",
    "cup['AwayTeamGoals'] = cup['AwayTeamGoals'].astype(float)\n",
    "print(cup)"
   ]
  },
  {
   "cell_type": "code",
   "execution_count": 92,
   "metadata": {},
   "outputs": [
    {
     "name": "stdout",
     "output_type": "stream",
     "text": [
      "Empty DataFrame\n",
      "Columns: [Year, Date , Time , HomeTeam, AwayTeam, HomeTeamGoals, AwayTeamGoals, Stage, SpecialWinConditions, Stadium, City, Attendance, TopScorer, Date, Time]\n",
      "Index: []\n"
     ]
    }
   ],
   "source": [
    "#remove the last ten rows\n",
    "cup.drop(cup.tail(10).index,inplace=True)\n",
    "print(cup)"
   ]
  },
  {
   "cell_type": "code",
   "execution_count": 93,
   "metadata": {},
   "outputs": [
    {
     "name": "stdout",
     "output_type": "stream",
     "text": [
      "Empty DataFrame\n",
      "Columns: [Year, Date , Time , HomeTeam, AwayTeam, HomeTeamGoals, AwayTeamGoals, Stage, SpecialWinConditions, Stadium, City, Attendance, TopScorer, Date, Time]\n",
      "Index: []\n"
     ]
    }
   ],
   "source": [
    "#iterate over rows in the dataframe\n",
    "for row in cup.itertuples(index=False):\n",
    "    print(row)\n",
    "print(cup)"
   ]
  },
  {
   "cell_type": "code",
   "execution_count": 94,
   "metadata": {},
   "outputs": [
    {
     "name": "stdout",
     "output_type": "stream",
     "text": [
      "Empty DataFrame\n",
      "Columns: [Time, Date, Year, Stadium, City, Stage, AwayTeam, HomeTeam, AwayTeamGoals, HomeTeamGoals, Attendance, SpecialWinCondition, TopScorer, Time, Date]\n",
      "Index: []\n"
     ]
    }
   ],
   "source": [
    "#change order of dataframe columns\n",
    "new_order = ['Time','Date','Year','Stadium','City','Stage','AwayTeam','HomeTeam','AwayTeamGoals','HomeTeamGoals','Attendance','SpecialWinCondition','TopScorer','Time','Date']\n",
    "cup = cup.reindex(columns=new_order)\n",
    "print(cup)"
   ]
  },
  {
   "cell_type": "code",
   "execution_count": 97,
   "metadata": {},
   "outputs": [
    {
     "name": "stdout",
     "output_type": "stream",
     "text": [
      "     Year                      Date   Time      HomeTeam       AwayTeam  \\\n",
      "19   1965                  14-Nov-65    NaN     Senegal         Tunisia   \n",
      "24   1965                  21-Nov-65    NaN     Senegal     Ivory Coast   \n",
      "70   1972                   2-Mar-72    NaN    Cameroon           Congo   \n",
      "88   1974                  11-Mar-74    NaN       Congo           Egypt   \n",
      "113  1978                  10-Mar-78    NaN      Zambia         Nigeria   \n",
      "..    ...                        ...    ...          ...            ...   \n",
      "609  2019   6 July 2019 (2019-07-06)  21:00       Egypt    South Africa   \n",
      "612  2019   8 July 2019 (2019-07-08)  18:00        Mali     Ivory Coast   \n",
      "617  2019  11 July 2019 (2019-07-11)  21:00  Madagascar         Tunisia   \n",
      "620  2019  17 July 2019 (2019-07-17)  21:00     Tunisia         Nigeria   \n",
      "621  2019  19 July 2019 (2019-07-19)  21:00     Senegal         Algeria   \n",
      "\n",
      "     HomeTeamGoals  AwayTeamGoals                 Stage SpecialWinConditions  \\\n",
      "19             0.0            0.0               Group A                  NaN   \n",
      "24             0.0            1.0     Third place match                  NaN   \n",
      "70             0.0            1.0            Semifinals                  NaN   \n",
      "88             0.0            4.0     Third place match                  NaN   \n",
      "113            0.0            0.0               Group A                  NaN   \n",
      "..             ...            ...                   ...                  ...   \n",
      "609            0.0            1.0           Round of 16                  NaN   \n",
      "612            0.0            1.0           Round of 16                  NaN   \n",
      "617            0.0            3.0        Quarter-finals                  NaN   \n",
      "620            0.0            1.0  Third place play-off                  NaN   \n",
      "621            0.0            1.0                 Final                  NaN   \n",
      "\n",
      "                         Stadium      City  Attendance  \n",
      "19          Stade Chedli Zouiten     Tunis         NaN  \n",
      "24          Stade Chedli Zouiten     Tunis         NaN  \n",
      "70              Stade Omnisports   Yaoundé         NaN  \n",
      "88   Cairo International Stadium     Cairo         NaN  \n",
      "113         Accra Sports Stadium     Accra     25000.0  \n",
      "..                           ...       ...         ...  \n",
      "609  Cairo International Stadium     Cairo     75000.0  \n",
      "612                 Suez Stadium      Suez      7672.0  \n",
      "617             Al Salam Stadium     Cairo      7568.0  \n",
      "620             Al Salam Stadium     Cairo      6340.0  \n",
      "621  Cairo International Stadium     Cairo     75000.0  \n",
      "\n",
      "[128 rows x 12 columns]\n"
     ]
    }
   ],
   "source": [
    "col = 'HomeTeamGoals'\n",
    "rows = cup[cup[col]==0]\n",
    "print(rows)"
   ]
  }
 ],
 "metadata": {
  "kernelspec": {
   "display_name": "base",
   "language": "python",
   "name": "python3"
  },
  "language_info": {
   "codemirror_mode": {
    "name": "ipython",
    "version": 3
   },
   "file_extension": ".py",
   "mimetype": "text/x-python",
   "name": "python",
   "nbconvert_exporter": "python",
   "pygments_lexer": "ipython3",
   "version": "3.10.9"
  },
  "orig_nbformat": 4
 },
 "nbformat": 4,
 "nbformat_minor": 2
}
